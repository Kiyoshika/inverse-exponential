{
 "cells": [
  {
   "cell_type": "code",
   "execution_count": 1,
   "id": "1ef49cc9-ab04-4f77-8364-d872d75b0239",
   "metadata": {},
   "outputs": [],
   "source": [
    "from scipy.stats import gaussian_kde\n",
    "import matplotlib.pyplot as plt\n",
    "import numpy as np\n",
    "\n",
    "# ***NOTE:*** in the latest paper revision this is tested with v0.1.2, future versions may behave slightly different\n",
    "from invexpo.inverse_exponential import InverseExponential"
   ]
  },
  {
   "cell_type": "code",
   "execution_count": 99,
   "id": "59632187-4e05-406d-acfd-b93999917809",
   "metadata": {},
   "outputs": [],
   "source": [
    "theoretical = InverseExponential()\n",
    "theoretical.create(a = 0.01, lower_bound = 300, upper_bound = 900)"
   ]
  },
  {
   "cell_type": "code",
   "execution_count": 100,
   "id": "9799e9a9-3422-46a9-8f46-08e673226b35",
   "metadata": {},
   "outputs": [
    {
     "data": {
      "text/plain": [
       "(array([  23.,   30.,   72.,  127.,  200.,  434.,  722., 1313., 2475.,\n",
       "        4604.]),\n",
       " array([302.36586296, 362.12869101, 421.89151905, 481.6543471 ,\n",
       "        541.41717515, 601.18000319, 660.94283124, 720.70565929,\n",
       "        780.46848733, 840.23131538, 899.99414342]),\n",
       " <BarContainer object of 10 artists>)"
      ]
     },
     "execution_count": 100,
     "metadata": {},
     "output_type": "execute_result"
    },
    {
     "data": {
      "image/png": "[encoded data removed]",
      "text/plain": [
       "<Figure size 640x480 with 1 Axes>"
      ]
     },
     "metadata": {},
     "output_type": "display_data"
    }
   ],
   "source": [
    "tsample = theoretical.rvs(10000)\n",
    "plt.hist(tsample)"
   ]
  },
  {
   "cell_type": "code",
   "execution_count": 101,
   "id": "43cfb0d4-70e8-400e-a6c5-fc40c27ca66e",
   "metadata": {},
   "outputs": [],
   "source": [
    "# symmetric KL-Divergence as described in the paper\n",
    "def symmetric_kld(dist):\n",
    "    domain = np.linspace(300, 900, 1000)\n",
    "    _sum = 0.0\n",
    "    for _x in domain:\n",
    "        _sum += (dist.pdf(_x)*np.log(dist.pdf(_x)/theoretical.pdf(_x)) + theoretical.pdf(_x)*np.log(theoretical.pdf(_x)/dist.pdf(_x)))\n",
    "    return _sum"
   ]
  },
  {
   "cell_type": "code",
   "execution_count": 102,
   "id": "e262207c-5585-4bdb-a7ba-43398b412d84",
   "metadata": {},
   "outputs": [],
   "source": [
    "# counts[0] = number of times fhat was a \"better\" fit\n",
    "# counts[1] = number of times KDE was a \"better\" fit\n",
    "counts = [0, 0]\n",
    "fhat_kld_values = []\n",
    "khat_kld_values = []\n",
    "\n",
    "# 250 total experiments\n",
    "for i in range(250):\n",
    "    ### print(i, counts, [np.mean(fhat_kld_values), np.mean(khat_kld_values)])\n",
    "    \n",
    "    # sometimes for small values of a (< 0.003) there are convergence issues\n",
    "    # on small samples (e.g., 30). Without breaking the simulation, just re-try a new sample\n",
    "    # to get the full 250 iterations\n",
    "    while True:\n",
    "        # sample 150 items from the theoretical distribution\n",
    "        samples = theoretical.rvs(150)\n",
    "        try: \n",
    "            # estimate the inverse exponential\n",
    "            fhat = InverseExponential()\n",
    "            fhat.fit(samples)\n",
    "            # kernel density\n",
    "            khat = gaussian_kde(samples)\n",
    "        \n",
    "            fhat_kld = symmetric_kld(fhat)\n",
    "            khat_kld = symmetric_kld(khat)\n",
    "            \n",
    "            fhat_kld_values.append(fhat_kld)\n",
    "            khat_kld_values.append(khat_kld)\n",
    "        \n",
    "            if fhat_kld < khat_kld:\n",
    "                counts[0] += 1\n",
    "            elif khat_kld < fhat_kld:\n",
    "                counts[1] += 1\n",
    "            else:\n",
    "                print(\"WARNING: KLD values matched, doing nothing\")\n",
    "            break\n",
    "        except:\n",
    "            print(\"WARNING: invexpo didn't converge, retrying a new sample...\")\n",
    "            continue\n",
    "    "
   ]
  },
  {
   "cell_type": "code",
   "execution_count": 103,
   "id": "59bc5f3d-c1eb-48a1-b448-1af001c213dd",
   "metadata": {},
   "outputs": [
    {
     "data": {
      "text/plain": [
       "(0, 250)"
      ]
     },
     "execution_count": 103,
     "metadata": {},
     "output_type": "execute_result"
    }
   ],
   "source": [
    "counts[1], counts[0]"
   ]
  },
  {
   "cell_type": "code",
   "execution_count": 104,
   "id": "2b076eb8-1917-4a96-9d28-d665b7056632",
   "metadata": {},
   "outputs": [
    {
     "data": {
      "text/plain": [
       "(0.015, 0.207)"
      ]
     },
     "execution_count": 104,
     "metadata": {},
     "output_type": "execute_result"
    }
   ],
   "source": [
    "round(np.mean(fhat_kld_values), 3), round(np.mean(khat_kld_values), 3)"
   ]
  },
  {
   "cell_type": "code",
   "execution_count": 105,
   "id": "d4964f45-7004-42d2-a976-0a119cdf2941",
   "metadata": {},
   "outputs": [
    {
     "data": {
      "text/plain": [
       "-0.9294"
      ]
     },
     "execution_count": 105,
     "metadata": {},
     "output_type": "execute_result"
    }
   ],
   "source": [
    "# % improvement (negative is better, positive is worse)\n",
    "round((np.mean(fhat_kld_values) - np.mean(khat_kld_values)) / np.mean(khat_kld_values), 4)"
   ]
  }
 ],
 "metadata": {
  "kernelspec": {
   "display_name": "Python 3 (ipykernel)",
   "language": "python",
   "name": "python3"
  },
  "language_info": {
   "codemirror_mode": {
    "name": "ipython",
    "version": 3
   },
   "file_extension": ".py",
   "mimetype": "text/x-python",
   "name": "python",
   "nbconvert_exporter": "python",
   "pygments_lexer": "ipython3",
   "version": "3.12.2"
  }
 },
 "nbformat": 4,
 "nbformat_minor": 5
}
